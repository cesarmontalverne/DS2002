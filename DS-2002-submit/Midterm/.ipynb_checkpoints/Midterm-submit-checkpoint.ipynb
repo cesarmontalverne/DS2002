{
 "cells": [
  {
   "cell_type": "markdown",
   "id": "683471b7",
   "metadata": {},
   "source": [
    "# Midterm\n",
    "Cesar Godoy"
   ]
  },
  {
   "cell_type": "code",
   "execution_count": 1,
   "id": "84dc9f66",
   "metadata": {
    "scrolled": true
   },
   "outputs": [
    {
     "name": "stdout",
     "output_type": "stream",
     "text": [
      "Midterm \n",
      "Cesar Godoy\n"
     ]
    }
   ],
   "source": [
    "# Midterm\n",
    "#Cesar Godoy\n",
    "print(\"Midterm \\nCesar Godoy\")"
   ]
  },
  {
   "cell_type": "markdown",
   "id": "3a739a41",
   "metadata": {},
   "source": [
    "## Introduction\n",
    "\n",
    "The Brazilian government provides plenty of data about the activities of congress - especially the house of representatives. I was interested on looking into the information they provide and thinking about developing systems or data analytics tools that would give normal citizens accurate information on their representatives and allow democracy to work with less assymetry of information.\n",
    "\n",
    "In this project I will use a mix of government APIs and csv files to create a facts table about voting in the House of Representatives in Brazil."
   ]
  },
  {
   "cell_type": "code",
   "execution_count": 2,
   "id": "75e3f0f2",
   "metadata": {},
   "outputs": [],
   "source": [
    "# import packages\n",
    "import requests\n",
    "import pandas as pd\n",
    "import pymongo\n",
    "import os\n",
    "from sqlalchemy import create_engine, text\n",
    "import re"
   ]
  },
  {
   "cell_type": "markdown",
   "id": "b44993f3",
   "metadata": {},
   "source": [
    "## Data Origins and Extraction\n",
    "In this section, I will:\n",
    "(1) Insert data in MongoDB and MySQL, to mimic that being their origin\n",
    "(2) Extract data from (2.1) an API (2.2) my local MongoDB (2.3) my local file system (2.4) my local MySQL server"
   ]
  },
  {
   "cell_type": "markdown",
   "id": "094da67a",
   "metadata": {},
   "source": [
    "### API\n",
    "Swagger Documentation: https://dadosabertos.camara.leg.br/swagger/api.htmls\n",
    "In this subsection, I will:\n",
    "(1) retrieve data from an API endpoint\n",
    "(2) save it as a DataFrame"
   ]
  },
  {
   "cell_type": "code",
   "execution_count": 3,
   "id": "66251f28",
   "metadata": {},
   "outputs": [],
   "source": [
    "# additional functions for this section\n",
    "# make requests\n",
    "def requireAPIs(url):\n",
    "    try:\n",
    "        req = requests.get(url)\n",
    "        return req.json()\n",
    "    except: \n",
    "        print(f\"couldn't read {url}\")\n",
    "        return False\n",
    "#create urls\n",
    "base = \"https://dadosabertos.camara.leg.br/api/v2\"\n",
    "partidos_url = base+\"//partidos?itens=100\"\n"
   ]
  },
  {
   "cell_type": "code",
   "execution_count": 4,
   "id": "e5dd4091",
   "metadata": {},
   "outputs": [
    {
     "name": "stdout",
     "output_type": "stream",
     "text": [
      "https://dadosabertos.camara.leg.br/api/v2/votacoes?dataInicio=2022-01-01&dataFim=2022-12-31&pagina=1\n",
      "https://dadosabertos.camara.leg.br/api/v2/votacoes?dataInicio=2022-01-01&dataFim=2022-12-31&pagina=2&itens=200\n",
      "https://dadosabertos.camara.leg.br/api/v2/votacoes?dataInicio=2022-01-01&dataFim=2022-12-31&pagina=3&itens=200\n",
      "https://dadosabertos.camara.leg.br/api/v2/votacoes?dataInicio=2022-01-01&dataFim=2022-12-31&pagina=4&itens=200\n",
      "https://dadosabertos.camara.leg.br/api/v2/votacoes?dataInicio=2022-01-01&dataFim=2022-12-31&pagina=5&itens=200\n",
      "https://dadosabertos.camara.leg.br/api/v2/votacoes?dataInicio=2022-01-01&dataFim=2022-12-31&pagina=6&itens=200\n",
      "https://dadosabertos.camara.leg.br/api/v2/votacoes?dataInicio=2022-01-01&dataFim=2022-12-31&pagina=7&itens=200\n",
      "https://dadosabertos.camara.leg.br/api/v2/votacoes?dataInicio=2022-01-01&dataFim=2022-12-31&pagina=8&itens=200\n",
      "https://dadosabertos.camara.leg.br/api/v2/votacoes?dataInicio=2022-01-01&dataFim=2022-12-31&pagina=9&itens=200\n",
      "https://dadosabertos.camara.leg.br/api/v2/votacoes?dataInicio=2022-01-01&dataFim=2022-12-31&pagina=10&itens=200\n",
      "https://dadosabertos.camara.leg.br/api/v2/votacoes?dataInicio=2022-01-01&dataFim=2022-12-31&pagina=11&itens=200\n",
      "https://dadosabertos.camara.leg.br/api/v2/votacoes?dataInicio=2022-01-01&dataFim=2022-12-31&pagina=12&itens=200\n",
      "https://dadosabertos.camara.leg.br/api/v2/votacoes?dataInicio=2022-01-01&dataFim=2022-12-31&pagina=13&itens=200\n",
      "https://dadosabertos.camara.leg.br/api/v2/votacoes?dataInicio=2022-01-01&dataFim=2022-12-31&pagina=14&itens=200\n",
      "https://dadosabertos.camara.leg.br/api/v2/votacoes?dataInicio=2022-01-01&dataFim=2022-12-31&pagina=15&itens=200\n",
      "https://dadosabertos.camara.leg.br/api/v2/votacoes?dataInicio=2022-01-01&dataFim=2022-12-31&pagina=16&itens=200\n",
      "https://dadosabertos.camara.leg.br/api/v2/votacoes?dataInicio=2022-01-01&dataFim=2022-12-31&pagina=17&itens=200\n",
      "https://dadosabertos.camara.leg.br/api/v2/votacoes?dataInicio=2022-01-01&dataFim=2022-12-31&pagina=18&itens=200\n",
      "https://dadosabertos.camara.leg.br/api/v2/votacoes?dataInicio=2022-01-01&dataFim=2022-12-31&pagina=19&itens=200\n",
      "https://dadosabertos.camara.leg.br/api/v2/votacoes?dataInicio=2022-01-01&dataFim=2022-12-31&pagina=20&itens=200\n",
      "https://dadosabertos.camara.leg.br/api/v2/votacoes?dataInicio=2022-01-01&dataFim=2022-12-31&pagina=21&itens=200\n",
      "https://dadosabertos.camara.leg.br/api/v2/votacoes?dataInicio=2022-01-01&dataFim=2022-12-31&pagina=22&itens=200\n",
      "https://dadosabertos.camara.leg.br/api/v2/votacoes?dataInicio=2022-01-01&dataFim=2022-12-31&pagina=23&itens=200\n",
      "https://dadosabertos.camara.leg.br/api/v2/votacoes?dataInicio=2022-01-01&dataFim=2022-12-31&pagina=24&itens=200\n",
      "https://dadosabertos.camara.leg.br/api/v2/votacoes?dataInicio=2022-01-01&dataFim=2022-12-31&pagina=25&itens=200\n",
      "https://dadosabertos.camara.leg.br/api/v2/votacoes?dataInicio=2022-01-01&dataFim=2022-12-31&pagina=26&itens=200\n",
      "https://dadosabertos.camara.leg.br/api/v2/votacoes?dataInicio=2022-01-01&dataFim=2022-12-31&pagina=27&itens=200\n",
      "https://dadosabertos.camara.leg.br/api/v2/votacoes?dataInicio=2022-01-01&dataFim=2022-12-31&pagina=28&itens=200\n",
      "done!\n",
      "5578\n"
     ]
    }
   ],
   "source": [
    "# dataframe about the votes taken\n",
    "# they probably limit access to the API - this section takes a few minutes to run!\n",
    "condition = True\n",
    "votacoes_df = pd.DataFrame()\n",
    "votacoes_url = base+\"/votacoes?dataInicio=2022-01-01&dataFim=2022-12-31&pagina=1\"\n",
    "while(condition):\n",
    "    print(votacoes_url)\n",
    "    votacoes_json = requireAPIs(votacoes_url)\n",
    "    votacoes_url = votacoes_json[\"links\"][1]['href']\n",
    "    condition = votacoes_json[\"links\"][1]['rel']==\"next\"\n",
    "    votacoes_intermediary = pd.DataFrame(data=votacoes_json['dados'])\n",
    "    votacoes_df = pd.concat([votacoes_df,votacoes_intermediary],ignore_index=True)\n",
    "    if(not condition): print(\"done!\")\n",
    "print(len(votacoes_df.index))"
   ]
  },
  {
   "cell_type": "code",
   "execution_count": 13,
   "id": "804c3add",
   "metadata": {},
   "outputs": [
    {
     "data": {
      "text/html": [
       "<div>\n",
       "<style scoped>\n",
       "    .dataframe tbody tr th:only-of-type {\n",
       "        vertical-align: middle;\n",
       "    }\n",
       "\n",
       "    .dataframe tbody tr th {\n",
       "        vertical-align: top;\n",
       "    }\n",
       "\n",
       "    .dataframe thead th {\n",
       "        text-align: right;\n",
       "    }\n",
       "</style>\n",
       "<table border=\"1\" class=\"dataframe\">\n",
       "  <thead>\n",
       "    <tr style=\"text-align: right;\">\n",
       "      <th></th>\n",
       "      <th>id</th>\n",
       "      <th>uri</th>\n",
       "      <th>data</th>\n",
       "      <th>dataHoraRegistro</th>\n",
       "      <th>siglaOrgao</th>\n",
       "      <th>uriOrgao</th>\n",
       "      <th>uriEvento</th>\n",
       "      <th>proposicaoObjeto</th>\n",
       "      <th>uriProposicaoObjeto</th>\n",
       "      <th>descricao</th>\n",
       "      <th>aprovacao</th>\n",
       "    </tr>\n",
       "  </thead>\n",
       "  <tbody>\n",
       "    <tr>\n",
       "      <th>0</th>\n",
       "      <td>2307143-25</td>\n",
       "      <td>https://dadosabertos.camara.leg.br/api/v2/vota...</td>\n",
       "      <td>2022-12-14</td>\n",
       "      <td>2022-12-23T17:52:27</td>\n",
       "      <td>CE</td>\n",
       "      <td>https://dadosabertos.camara.leg.br/api/v2/orga...</td>\n",
       "      <td>https://dadosabertos.camara.leg.br/api/v2/even...</td>\n",
       "      <td>None</td>\n",
       "      <td>None</td>\n",
       "      <td>Aprovado o Relatório Prévio.</td>\n",
       "      <td>1.0</td>\n",
       "    </tr>\n",
       "  </tbody>\n",
       "</table>\n",
       "</div>"
      ],
      "text/plain": [
       "           id                                                uri        data  \\\n",
       "0  2307143-25  https://dadosabertos.camara.leg.br/api/v2/vota...  2022-12-14   \n",
       "\n",
       "      dataHoraRegistro siglaOrgao  \\\n",
       "0  2022-12-23T17:52:27         CE   \n",
       "\n",
       "                                            uriOrgao  \\\n",
       "0  https://dadosabertos.camara.leg.br/api/v2/orga...   \n",
       "\n",
       "                                           uriEvento proposicaoObjeto  \\\n",
       "0  https://dadosabertos.camara.leg.br/api/v2/even...             None   \n",
       "\n",
       "  uriProposicaoObjeto                     descricao  aprovacao  \n",
       "0                None  Aprovado o Relatório Prévio.        1.0  "
      ]
     },
     "execution_count": 13,
     "metadata": {},
     "output_type": "execute_result"
    }
   ],
   "source": [
    "votacoes_df.head(1)"
   ]
  },
  {
   "cell_type": "markdown",
   "id": "9e3d02d0",
   "metadata": {},
   "source": [
    "### MongoDB\n",
    "In this section:\n",
    "(1) Retrieve data from an API endpoit\n",
    "(2) Save data in MongoDB (to mimic MongoDB being the original source of data)\n",
    "(3) Extract data from MongoDB\n",
    "(4) Convert it into a Pandas DataFrame"
   ]
  },
  {
   "cell_type": "code",
   "execution_count": 14,
   "id": "9e17ab13",
   "metadata": {},
   "outputs": [],
   "source": [
    "# additional functions for this section\n",
    "def get_mongo_dataframe(connect_str, db_name, collection, query):\n",
    "    '''Create a connection to MongoDB'''\n",
    "    client = pymongo.MongoClient(connect_str)\n",
    "    \n",
    "    '''Query MongoDB, and fill a python list with documents to create a DataFrame'''\n",
    "    db = client[db_name]\n",
    "    dframe = pd.DataFrame(list(db[collection].find(query)))\n",
    "    dframe.drop(['_id'], axis=1, inplace=True)\n",
    "    client.close()\n",
    "    return dframe"
   ]
  },
  {
   "cell_type": "markdown",
   "id": "61e6e02e",
   "metadata": {},
   "source": [
    "#### Steps 1 and 2: Fetch data from api and save it in MongoDB"
   ]
  },
  {
   "cell_type": "code",
   "execution_count": 15,
   "id": "808906bf",
   "metadata": {},
   "outputs": [
    {
     "name": "stdout",
     "output_type": "stream",
     "text": [
      "Local Connection String: mongodb://localhost:27017/\n"
     ]
    }
   ],
   "source": [
    "#connect to mongoDB\n",
    "atlas_cluster_name = \"sandbox.zibbf\"\n",
    "atlas_user_name = \"root_user\"\n",
    "atlas_password = \"Eutocomfome,meuamigo!\"\n",
    "\n",
    "conn_str = {\"local\" : f\"mongodb://localhost:27017/\",\n",
    "    \"atlas\" : f\"mongodb+srv://{atlas_user_name}:{atlas_password}@{atlas_cluster_name}.mongodb.net\"\n",
    "}\n",
    "\n",
    "print(f\"Local Connection String: {conn_str['local']}\")"
   ]
  },
  {
   "cell_type": "code",
   "execution_count": 16,
   "id": "77f917c2",
   "metadata": {},
   "outputs": [],
   "source": [
    "#push data to mongoDB\n",
    "myclient = pymongo.MongoClient(\"mongodb://localhost:27017/\")\n",
    "db = myclient[\"local\"]\n",
    "db.drop_collection(\"partidos\")\n",
    "partidos_json = requireAPIs(partidos_url)['dados']\n",
    "if(partidos_json): db[\"partidos\"].insert_many(partidos_json)\n",
    "else: print(\"failed to save partidos to MongoDB\")\n",
    "myclient.close()        "
   ]
  },
  {
   "cell_type": "markdown",
   "id": "2a5d914a",
   "metadata": {},
   "source": [
    "#### Steps 3 and 4: Extract data from MongoDB and convert it into a Pandas DataFrame"
   ]
  },
  {
   "cell_type": "code",
   "execution_count": 17,
   "id": "6017d741",
   "metadata": {},
   "outputs": [
    {
     "data": {
      "text/html": [
       "<div>\n",
       "<style scoped>\n",
       "    .dataframe tbody tr th:only-of-type {\n",
       "        vertical-align: middle;\n",
       "    }\n",
       "\n",
       "    .dataframe tbody tr th {\n",
       "        vertical-align: top;\n",
       "    }\n",
       "\n",
       "    .dataframe thead th {\n",
       "        text-align: right;\n",
       "    }\n",
       "</style>\n",
       "<table border=\"1\" class=\"dataframe\">\n",
       "  <thead>\n",
       "    <tr style=\"text-align: right;\">\n",
       "      <th></th>\n",
       "      <th>id</th>\n",
       "      <th>sigla</th>\n",
       "      <th>nome</th>\n",
       "      <th>uri</th>\n",
       "    </tr>\n",
       "  </thead>\n",
       "  <tbody>\n",
       "    <tr>\n",
       "      <th>0</th>\n",
       "      <td>36898</td>\n",
       "      <td>AVANTE</td>\n",
       "      <td>Avante</td>\n",
       "      <td>https://dadosabertos.camara.leg.br/api/v2/part...</td>\n",
       "    </tr>\n",
       "  </tbody>\n",
       "</table>\n",
       "</div>"
      ],
      "text/plain": [
       "      id   sigla    nome                                                uri\n",
       "0  36898  AVANTE  Avante  https://dadosabertos.camara.leg.br/api/v2/part..."
      ]
     },
     "execution_count": 17,
     "metadata": {},
     "output_type": "execute_result"
    }
   ],
   "source": [
    "# dataframe about party information\n",
    "partidos_df = get_mongo_dataframe(conn_str[\"local\"],\"local\",\"partidos\",{})\n",
    "partidos_df.head(1)"
   ]
  },
  {
   "cell_type": "markdown",
   "id": "9ac27797",
   "metadata": {},
   "source": [
    "### File System\n",
    "In this section, I will:\n",
    "(1) Retrieve data from my local file system\n",
    "(2) Save it as a DataFrame"
   ]
  },
  {
   "cell_type": "code",
   "execution_count": 18,
   "id": "bb7a3978",
   "metadata": {},
   "outputs": [
    {
     "data": {
      "text/html": [
       "<div>\n",
       "<style scoped>\n",
       "    .dataframe tbody tr th:only-of-type {\n",
       "        vertical-align: middle;\n",
       "    }\n",
       "\n",
       "    .dataframe tbody tr th {\n",
       "        vertical-align: top;\n",
       "    }\n",
       "\n",
       "    .dataframe thead th {\n",
       "        text-align: right;\n",
       "    }\n",
       "</style>\n",
       "<table border=\"1\" class=\"dataframe\">\n",
       "  <thead>\n",
       "    <tr style=\"text-align: right;\">\n",
       "      <th></th>\n",
       "      <th>uri</th>\n",
       "      <th>sigla</th>\n",
       "      <th>apelido</th>\n",
       "      <th>nome</th>\n",
       "      <th>nomePublicacao</th>\n",
       "      <th>codTipoOrgao</th>\n",
       "      <th>tipoOrgao</th>\n",
       "      <th>dataInicio</th>\n",
       "      <th>dataInstalacao</th>\n",
       "      <th>dataFim</th>\n",
       "      <th>dataFimOriginal</th>\n",
       "      <th>codSituacao</th>\n",
       "      <th>descricaoSituacao</th>\n",
       "      <th>casa</th>\n",
       "      <th>sala</th>\n",
       "      <th>urlWebsite</th>\n",
       "    </tr>\n",
       "  </thead>\n",
       "  <tbody>\n",
       "    <tr>\n",
       "      <th>0</th>\n",
       "      <td>https://dadosabertos.camara.leg.br/api/v2/orga...</td>\n",
       "      <td>MESA</td>\n",
       "      <td>Mesa Diretora</td>\n",
       "      <td>Mesa Diretora da Câmara dos Deputados</td>\n",
       "      <td>Mesa Diretora</td>\n",
       "      <td>1</td>\n",
       "      <td>Comissão Diretora</td>\n",
       "      <td>NaN</td>\n",
       "      <td>NaN</td>\n",
       "      <td>NaN</td>\n",
       "      <td>NaN</td>\n",
       "      <td>NaN</td>\n",
       "      <td>NaN</td>\n",
       "      <td>Câmara dos Deputados</td>\n",
       "      <td>NaN</td>\n",
       "      <td>NaN</td>\n",
       "    </tr>\n",
       "  </tbody>\n",
       "</table>\n",
       "</div>"
      ],
      "text/plain": [
       "                                                 uri sigla        apelido  \\\n",
       "0  https://dadosabertos.camara.leg.br/api/v2/orga...  MESA  Mesa Diretora   \n",
       "\n",
       "                                    nome nomePublicacao  codTipoOrgao  \\\n",
       "0  Mesa Diretora da Câmara dos Deputados  Mesa Diretora             1   \n",
       "\n",
       "           tipoOrgao dataInicio dataInstalacao dataFim  dataFimOriginal  \\\n",
       "0  Comissão Diretora        NaN            NaN     NaN              NaN   \n",
       "\n",
       "   codSituacao descricaoSituacao                  casa sala  urlWebsite  \n",
       "0          NaN               NaN  Câmara dos Deputados  NaN         NaN  "
      ]
     },
     "execution_count": 18,
     "metadata": {},
     "output_type": "execute_result"
    }
   ],
   "source": [
    "# dataframe about departments\n",
    "orgaos_df = pd.read_csv(\"data-used/orgaos.csv\", delimiter=\";\")\n",
    "orgaos_df.head(1)"
   ]
  },
  {
   "cell_type": "markdown",
   "id": "2500245e",
   "metadata": {},
   "source": [
    "### MySQL\n",
    "In this section I will:\n",
    "(1) Retrieve data from my local file system\n",
    "(2) Save data in MySQL (to mimic MySQL being the original source of data)\n",
    "(3) Extract data from MySQL\n",
    "(4) Convert it into a Pandas DataFrame"
   ]
  },
  {
   "cell_type": "code",
   "execution_count": 19,
   "id": "0440e37a",
   "metadata": {},
   "outputs": [],
   "source": [
    "#additional functions for this section\n",
    "#connect to mysql\n",
    "host_name = \"localhost\"\n",
    "host_ip = \"127.0.0.1\"\n",
    "port = \"3306\"\n",
    "user_id = \"root_user\"\n",
    "pwd = \"Eutocomfome,meuamigo!\"\n",
    "mysql_db_src = \"DadosAbertos_sql_src\"\n",
    "mysql_db_dst = \"DadosAbertos_sql_dst\"\n",
    "def createDatabase(database):\n",
    "    conn_str = f\"mysql+pymysql://{user_id}:{pwd}@{host_name}/sys\" #use default sys db to create db I'll use\n",
    "    sqlEngine = create_engine(conn_str, pool_recycle=3600)\n",
    "    with sqlEngine.connect() as conn:\n",
    "        conn.execute(text(f\"DROP DATABASE IF EXISTS `{database}`;\"))\n",
    "        conn.execute(text(f\"CREATE DATABASE `{database}`;\"))\n",
    "        conn.execute(text(f\"USE {database};\"))\n",
    "    \n",
    "def set_dataframe2(df,database,table_name, db_operation,pk_column):\n",
    "    conn_str = f\"mysql+pymysql://{user_id}:{pwd}@{host_name}/{database}\"\n",
    "    sqlEngine = create_engine(conn_str, pool_recycle=3600)\n",
    "    with sqlEngine.connect() as conn:\n",
    "        if db_operation == \"insert\": \n",
    "            df.to_sql(table_name, con=conn, index=False, if_exists='replace')\n",
    "            conn.execute(text(f\"ALTER TABLE {table_name} ADD PRIMARY KEY ({pk_column})\"))\n",
    "        elif db_operation == \"update\": \n",
    "            df.to_sql(table_name, con=conn, index=False, if_exists='append')\n",
    "\n",
    "def get_dataframe(user_id, pwd, host_name, db_name, sql_query):\n",
    "    conn_str = f\"mysql+pymysql://{user_id}:{pwd}@{host_name}/{db_name}\"\n",
    "    sqlEngine = create_engine(conn_str, pool_recycle=3600)\n",
    "    connection = sqlEngine.connect()\n",
    "    dframe = pd.read_sql(text(sql_query), connection);\n",
    "    connection.close()\n",
    "    return dframe"
   ]
  },
  {
   "cell_type": "markdown",
   "id": "d984e701",
   "metadata": {},
   "source": [
    "Run SQL command that creates dim_date at this point."
   ]
  },
  {
   "cell_type": "code",
   "execution_count": 21,
   "id": "7e0a86b1",
   "metadata": {},
   "outputs": [
    {
     "data": {
      "text/plain": [
       "date_key              int64\n",
       "full_date    datetime64[ns]\n",
       "dtype: object"
      ]
     },
     "execution_count": 21,
     "metadata": {},
     "output_type": "execute_result"
    }
   ],
   "source": [
    "dim_date = get_dataframe(user_id,pwd,host_name,mysql_db_dst, \"SELECT * FROM dim_date\")\n",
    "dim_date = pd.DataFrame(dim_date, columns=[\"date_key\",\"full_date\"])\n",
    "dim_date[\"full_date\"] = dim_date[\"full_date\"].astype('datetime64[ns]')\n",
    "dim_date.dtypes"
   ]
  },
  {
   "cell_type": "markdown",
   "id": "689c0e96",
   "metadata": {},
   "source": [
    "#### Steps 1 and 2: Retrieve data from my local file system and Save data in MySQL"
   ]
  },
  {
   "cell_type": "code",
   "execution_count": 22,
   "id": "6b1b265c",
   "metadata": {},
   "outputs": [],
   "source": [
    "createDatabase(mysql_db_src)"
   ]
  },
  {
   "cell_type": "code",
   "execution_count": 23,
   "id": "92b55248",
   "metadata": {},
   "outputs": [
    {
     "data": {
      "text/html": [
       "<div>\n",
       "<style scoped>\n",
       "    .dataframe tbody tr th:only-of-type {\n",
       "        vertical-align: middle;\n",
       "    }\n",
       "\n",
       "    .dataframe tbody tr th {\n",
       "        vertical-align: top;\n",
       "    }\n",
       "\n",
       "    .dataframe thead th {\n",
       "        text-align: right;\n",
       "    }\n",
       "</style>\n",
       "<table border=\"1\" class=\"dataframe\">\n",
       "  <thead>\n",
       "    <tr style=\"text-align: right;\">\n",
       "      <th></th>\n",
       "      <th>idVotacao</th>\n",
       "      <th>uriVotacao</th>\n",
       "      <th>dataHoraVoto</th>\n",
       "      <th>voto</th>\n",
       "      <th>deputado_id</th>\n",
       "      <th>deputado_uri</th>\n",
       "      <th>deputado_nome</th>\n",
       "      <th>deputado_siglaPartido</th>\n",
       "      <th>deputado_uriPartido</th>\n",
       "      <th>deputado_siglaUf</th>\n",
       "      <th>deputado_idLegislatura</th>\n",
       "      <th>deputado_urlFoto</th>\n",
       "      <th>votos_key</th>\n",
       "    </tr>\n",
       "  </thead>\n",
       "  <tbody>\n",
       "    <tr>\n",
       "      <th>0</th>\n",
       "      <td>105464-319</td>\n",
       "      <td>https://dadosabertos.camara.leg.br/api/v2/vota...</td>\n",
       "      <td>2022-08-04T13:19:31</td>\n",
       "      <td>Não</td>\n",
       "      <td>204521</td>\n",
       "      <td>https://dadosabertos.camara.leg.br/api/v2/depu...</td>\n",
       "      <td>Abou Anni</td>\n",
       "      <td>UNIÃO</td>\n",
       "      <td>https://dadosabertos.camara.leg.br/api/v2/part...</td>\n",
       "      <td>SP</td>\n",
       "      <td>56</td>\n",
       "      <td>https://www.camara.leg.br/internet/deputado/ba...</td>\n",
       "      <td>0</td>\n",
       "    </tr>\n",
       "  </tbody>\n",
       "</table>\n",
       "</div>"
      ],
      "text/plain": [
       "    idVotacao                                         uriVotacao  \\\n",
       "0  105464-319  https://dadosabertos.camara.leg.br/api/v2/vota...   \n",
       "\n",
       "          dataHoraVoto voto  deputado_id  \\\n",
       "0  2022-08-04T13:19:31  Não       204521   \n",
       "\n",
       "                                        deputado_uri deputado_nome  \\\n",
       "0  https://dadosabertos.camara.leg.br/api/v2/depu...     Abou Anni   \n",
       "\n",
       "  deputado_siglaPartido                                deputado_uriPartido  \\\n",
       "0                 UNIÃO  https://dadosabertos.camara.leg.br/api/v2/part...   \n",
       "\n",
       "  deputado_siglaUf  deputado_idLegislatura  \\\n",
       "0               SP                      56   \n",
       "\n",
       "                                    deputado_urlFoto  votos_key  \n",
       "0  https://www.camara.leg.br/internet/deputado/ba...          0  "
      ]
     },
     "execution_count": 23,
     "metadata": {},
     "output_type": "execute_result"
    }
   ],
   "source": [
    "votacoesVotos_df_in = pd.read_csv(\"data-used/votacoesVotos-2022.csv\", delimiter=\";\")\n",
    "votacoesVotos_df_in['votos_key'] = votacoesVotos_df_in.index\n",
    "votacoesVotos_df_in.head(1)"
   ]
  },
  {
   "cell_type": "code",
   "execution_count": 24,
   "id": "dcd34b89",
   "metadata": {},
   "outputs": [],
   "source": [
    "set_dataframe2(votacoesVotos_df_in,mysql_db_src,\"votos\",\"insert\",\"votos_key\")"
   ]
  },
  {
   "cell_type": "markdown",
   "id": "3ad7163a",
   "metadata": {},
   "source": [
    "#### Steps 3 and 4:Extract data from MySQL and Convert it into a Pandas DataFrame"
   ]
  },
  {
   "cell_type": "code",
   "execution_count": 25,
   "id": "e2c484ae",
   "metadata": {},
   "outputs": [
    {
     "data": {
      "text/html": [
       "<div>\n",
       "<style scoped>\n",
       "    .dataframe tbody tr th:only-of-type {\n",
       "        vertical-align: middle;\n",
       "    }\n",
       "\n",
       "    .dataframe tbody tr th {\n",
       "        vertical-align: top;\n",
       "    }\n",
       "\n",
       "    .dataframe thead th {\n",
       "        text-align: right;\n",
       "    }\n",
       "</style>\n",
       "<table border=\"1\" class=\"dataframe\">\n",
       "  <thead>\n",
       "    <tr style=\"text-align: right;\">\n",
       "      <th></th>\n",
       "      <th>idVotacao</th>\n",
       "      <th>uriVotacao</th>\n",
       "      <th>dataHoraVoto</th>\n",
       "      <th>voto</th>\n",
       "      <th>deputado_id</th>\n",
       "      <th>deputado_uri</th>\n",
       "      <th>deputado_nome</th>\n",
       "      <th>deputado_siglaPartido</th>\n",
       "      <th>deputado_uriPartido</th>\n",
       "      <th>deputado_siglaUf</th>\n",
       "      <th>deputado_idLegislatura</th>\n",
       "      <th>deputado_urlFoto</th>\n",
       "      <th>votos_key</th>\n",
       "    </tr>\n",
       "  </thead>\n",
       "  <tbody>\n",
       "    <tr>\n",
       "      <th>0</th>\n",
       "      <td>105464-319</td>\n",
       "      <td>https://dadosabertos.camara.leg.br/api/v2/vota...</td>\n",
       "      <td>2022-08-04T13:19:31</td>\n",
       "      <td>Não</td>\n",
       "      <td>204521</td>\n",
       "      <td>https://dadosabertos.camara.leg.br/api/v2/depu...</td>\n",
       "      <td>Abou Anni</td>\n",
       "      <td>UNIÃO</td>\n",
       "      <td>https://dadosabertos.camara.leg.br/api/v2/part...</td>\n",
       "      <td>SP</td>\n",
       "      <td>56</td>\n",
       "      <td>https://www.camara.leg.br/internet/deputado/ba...</td>\n",
       "      <td>0</td>\n",
       "    </tr>\n",
       "  </tbody>\n",
       "</table>\n",
       "</div>"
      ],
      "text/plain": [
       "    idVotacao                                         uriVotacao  \\\n",
       "0  105464-319  https://dadosabertos.camara.leg.br/api/v2/vota...   \n",
       "\n",
       "          dataHoraVoto voto  deputado_id  \\\n",
       "0  2022-08-04T13:19:31  Não       204521   \n",
       "\n",
       "                                        deputado_uri deputado_nome  \\\n",
       "0  https://dadosabertos.camara.leg.br/api/v2/depu...     Abou Anni   \n",
       "\n",
       "  deputado_siglaPartido                                deputado_uriPartido  \\\n",
       "0                 UNIÃO  https://dadosabertos.camara.leg.br/api/v2/part...   \n",
       "\n",
       "  deputado_siglaUf  deputado_idLegislatura  \\\n",
       "0               SP                      56   \n",
       "\n",
       "                                    deputado_urlFoto  votos_key  \n",
       "0  https://www.camara.leg.br/internet/deputado/ba...          0  "
      ]
     },
     "execution_count": 25,
     "metadata": {},
     "output_type": "execute_result"
    }
   ],
   "source": [
    "# dataframe about how each person voted\n",
    "votacoesVotos_df = get_dataframe(user_id,pwd,host_name,mysql_db_src, \"SELECT * FROM votos\")\n",
    "votacoesVotos_df.head(1)"
   ]
  },
  {
   "cell_type": "markdown",
   "id": "6dc037e7",
   "metadata": {},
   "source": [
    "## Transform and Load\n",
    "In this section I will:\n",
    "(1) Transform the data by removing columns and changing rows\n",
    "(2) Create dimension tables\n",
    "(3) Load data into (a different) MySQL (database)"
   ]
  },
  {
   "cell_type": "code",
   "execution_count": 26,
   "id": "7dfdd335",
   "metadata": {},
   "outputs": [],
   "source": [
    "#additional functions for this section\n",
    "def replaceURIwithID(df, field):\n",
    "    return df[field].apply(lambda x: None if x is None else re.findall(r'[^/]+$', str(x))[0])\n",
    "def getDate_from_DataHoraVoto(df, field):\n",
    "    return df[field].apply(lambda x: None if x is None else re.findall(r'\\d{4}-\\d{2}-\\d{2}', str(x))[0])\n",
    "def getTime_from_DataHoraVoto(df, field):\n",
    "    return df[field].apply(lambda x: None if x is None else re.findall(r'\\d{2}:\\d{2}:\\d{2}', str(x))[0])\n"
   ]
  },
  {
   "cell_type": "markdown",
   "id": "4ed5d5b7",
   "metadata": {},
   "source": [
    "#### Step 1 and 2: Transform the data by removing columns and changing rows and Create dimension tables"
   ]
  },
  {
   "cell_type": "code",
   "execution_count": 27,
   "id": "b28003eb",
   "metadata": {},
   "outputs": [
    {
     "data": {
      "text/html": [
       "<div>\n",
       "<style scoped>\n",
       "    .dataframe tbody tr th:only-of-type {\n",
       "        vertical-align: middle;\n",
       "    }\n",
       "\n",
       "    .dataframe tbody tr th {\n",
       "        vertical-align: top;\n",
       "    }\n",
       "\n",
       "    .dataframe thead th {\n",
       "        text-align: right;\n",
       "    }\n",
       "</style>\n",
       "<table border=\"1\" class=\"dataframe\">\n",
       "  <thead>\n",
       "    <tr style=\"text-align: right;\">\n",
       "      <th></th>\n",
       "      <th>idVotacao</th>\n",
       "      <th>idOrgao</th>\n",
       "      <th>descricaoVotacao</th>\n",
       "      <th>aprovacao</th>\n",
       "      <th>votacoes_key</th>\n",
       "      <th>data</th>\n",
       "    </tr>\n",
       "  </thead>\n",
       "  <tbody>\n",
       "    <tr>\n",
       "      <th>0</th>\n",
       "      <td>2307143-25</td>\n",
       "      <td>2009</td>\n",
       "      <td>Aprovado o Relatório Prévio.</td>\n",
       "      <td>1.0</td>\n",
       "      <td>0</td>\n",
       "      <td>20221214</td>\n",
       "    </tr>\n",
       "  </tbody>\n",
       "</table>\n",
       "</div>"
      ],
      "text/plain": [
       "    idVotacao idOrgao              descricaoVotacao  aprovacao  votacoes_key  \\\n",
       "0  2307143-25    2009  Aprovado o Relatório Prévio.        1.0             0   \n",
       "\n",
       "       data  \n",
       "0  20221214  "
      ]
     },
     "execution_count": 27,
     "metadata": {},
     "output_type": "execute_result"
    }
   ],
   "source": [
    "votacoes_df[\"idOrgao\"] = replaceURIwithID(votacoes_df,\"uriOrgao\")\n",
    "votacoes_df[\"descricaoVotacao\"] = votacoes_df[\"descricao\"]\n",
    "votacoes_df[\"idVotacao\"] = replaceURIwithID(votacoes_df,\"uri\")\n",
    "votacoes_dim = pd.DataFrame(votacoes_df, \n",
    "                            columns=[\"idVotacao\", \"data\", \"idOrgao\", \n",
    "                                     \"descricaoVotacao\", \"aprovacao\"])\n",
    "votacoes_dim[\"data\"] = votacoes_dim[\"data\"].astype('datetime64[ns]')\n",
    "votacoes_dim[\"votacoes_key\"] = votacoes_dim.index\n",
    "votacoes_dim = votacoes_dim.merge(dim_date, how=\"left\", left_on=\"data\", right_on=\"full_date\")\n",
    "votacoes_dim = votacoes_dim.drop([\"data\",\"full_date\"], axis=1)\n",
    "votacoes_dim[\"data\"] = votacoes_dim[\"date_key\"]\n",
    "votacoes_dim = votacoes_dim.drop([\"date_key\"], axis=1)\n",
    "votacoes_dim.head(1)"
   ]
  },
  {
   "cell_type": "code",
   "execution_count": 28,
   "id": "963f1e27",
   "metadata": {},
   "outputs": [
    {
     "data": {
      "text/html": [
       "<div>\n",
       "<style scoped>\n",
       "    .dataframe tbody tr th:only-of-type {\n",
       "        vertical-align: middle;\n",
       "    }\n",
       "\n",
       "    .dataframe tbody tr th {\n",
       "        vertical-align: top;\n",
       "    }\n",
       "\n",
       "    .dataframe thead th {\n",
       "        text-align: right;\n",
       "    }\n",
       "</style>\n",
       "<table border=\"1\" class=\"dataframe\">\n",
       "  <thead>\n",
       "    <tr style=\"text-align: right;\">\n",
       "      <th></th>\n",
       "      <th>deputado_nomePartido</th>\n",
       "      <th>sigla</th>\n",
       "      <th>partidos_key</th>\n",
       "    </tr>\n",
       "  </thead>\n",
       "  <tbody>\n",
       "    <tr>\n",
       "      <th>0</th>\n",
       "      <td>Avante</td>\n",
       "      <td>AVANTE</td>\n",
       "      <td>0</td>\n",
       "    </tr>\n",
       "  </tbody>\n",
       "</table>\n",
       "</div>"
      ],
      "text/plain": [
       "  deputado_nomePartido   sigla  partidos_key\n",
       "0               Avante  AVANTE             0"
      ]
     },
     "execution_count": 28,
     "metadata": {},
     "output_type": "execute_result"
    }
   ],
   "source": [
    "partidos_df['deputado_nomePartido'] = partidos_df[\"nome\"]\n",
    "partidos_dim = pd.DataFrame(partidos_df,columns=[\"deputado_nomePartido\",\"sigla\"])\n",
    "partidos_dim[\"partidos_key\"] = partidos_dim.index\n",
    "partidos_dim.head(1)"
   ]
  },
  {
   "cell_type": "code",
   "execution_count": 29,
   "id": "5da4d0b1",
   "metadata": {},
   "outputs": [
    {
     "data": {
      "text/html": [
       "<div>\n",
       "<style scoped>\n",
       "    .dataframe tbody tr th:only-of-type {\n",
       "        vertical-align: middle;\n",
       "    }\n",
       "\n",
       "    .dataframe tbody tr th {\n",
       "        vertical-align: top;\n",
       "    }\n",
       "\n",
       "    .dataframe thead th {\n",
       "        text-align: right;\n",
       "    }\n",
       "</style>\n",
       "<table border=\"1\" class=\"dataframe\">\n",
       "  <thead>\n",
       "    <tr style=\"text-align: right;\">\n",
       "      <th></th>\n",
       "      <th>idOrgao</th>\n",
       "      <th>sigla</th>\n",
       "      <th>apelido</th>\n",
       "      <th>tipoOrgao</th>\n",
       "      <th>orgao_key</th>\n",
       "    </tr>\n",
       "  </thead>\n",
       "  <tbody>\n",
       "    <tr>\n",
       "      <th>0</th>\n",
       "      <td>4</td>\n",
       "      <td>MESA</td>\n",
       "      <td>Mesa Diretora</td>\n",
       "      <td>Comissão Diretora</td>\n",
       "      <td>0</td>\n",
       "    </tr>\n",
       "  </tbody>\n",
       "</table>\n",
       "</div>"
      ],
      "text/plain": [
       "  idOrgao sigla        apelido          tipoOrgao  orgao_key\n",
       "0       4  MESA  Mesa Diretora  Comissão Diretora          0"
      ]
     },
     "execution_count": 29,
     "metadata": {},
     "output_type": "execute_result"
    }
   ],
   "source": [
    "orgaos_df[\"idOrgao\"] = replaceURIwithID(orgaos_df,\"uri\")\n",
    "orgaos_dim = pd.DataFrame(orgaos_df,columns=[\"idOrgao\",\"sigla\", \"apelido\",\"tipoOrgao\"])\n",
    "orgaos_dim[\"orgao_key\"] = orgaos_dim.index\n",
    "orgaos_dim.head(1)"
   ]
  },
  {
   "cell_type": "code",
   "execution_count": 30,
   "id": "c2bbea6f",
   "metadata": {},
   "outputs": [
    {
     "data": {
      "text/html": [
       "<div>\n",
       "<style scoped>\n",
       "    .dataframe tbody tr th:only-of-type {\n",
       "        vertical-align: middle;\n",
       "    }\n",
       "\n",
       "    .dataframe tbody tr th {\n",
       "        vertical-align: top;\n",
       "    }\n",
       "\n",
       "    .dataframe thead th {\n",
       "        text-align: right;\n",
       "    }\n",
       "</style>\n",
       "<table border=\"1\" class=\"dataframe\">\n",
       "  <thead>\n",
       "    <tr style=\"text-align: right;\">\n",
       "      <th></th>\n",
       "      <th>idVotacao</th>\n",
       "      <th>uriVotacao</th>\n",
       "      <th>dataHoraVoto</th>\n",
       "      <th>voto</th>\n",
       "      <th>deputado_id</th>\n",
       "      <th>deputado_uri</th>\n",
       "      <th>deputado_nome</th>\n",
       "      <th>deputado_siglaPartido</th>\n",
       "      <th>deputado_uriPartido</th>\n",
       "      <th>deputado_siglaUf</th>\n",
       "      <th>deputado_idLegislatura</th>\n",
       "      <th>deputado_urlFoto</th>\n",
       "      <th>votos_key</th>\n",
       "      <th>horaVoto</th>\n",
       "      <th>dataVoto</th>\n",
       "    </tr>\n",
       "  </thead>\n",
       "  <tbody>\n",
       "    <tr>\n",
       "      <th>0</th>\n",
       "      <td>105464-319</td>\n",
       "      <td>https://dadosabertos.camara.leg.br/api/v2/vota...</td>\n",
       "      <td>2022-08-04T13:19:31</td>\n",
       "      <td>Não</td>\n",
       "      <td>204521</td>\n",
       "      <td>https://dadosabertos.camara.leg.br/api/v2/depu...</td>\n",
       "      <td>Abou Anni</td>\n",
       "      <td>UNIÃO</td>\n",
       "      <td>https://dadosabertos.camara.leg.br/api/v2/part...</td>\n",
       "      <td>SP</td>\n",
       "      <td>56</td>\n",
       "      <td>https://www.camara.leg.br/internet/deputado/ba...</td>\n",
       "      <td>0</td>\n",
       "      <td>13:19:31</td>\n",
       "      <td>20220804</td>\n",
       "    </tr>\n",
       "  </tbody>\n",
       "</table>\n",
       "</div>"
      ],
      "text/plain": [
       "    idVotacao                                         uriVotacao  \\\n",
       "0  105464-319  https://dadosabertos.camara.leg.br/api/v2/vota...   \n",
       "\n",
       "          dataHoraVoto voto  deputado_id  \\\n",
       "0  2022-08-04T13:19:31  Não       204521   \n",
       "\n",
       "                                        deputado_uri deputado_nome  \\\n",
       "0  https://dadosabertos.camara.leg.br/api/v2/depu...     Abou Anni   \n",
       "\n",
       "  deputado_siglaPartido                                deputado_uriPartido  \\\n",
       "0                 UNIÃO  https://dadosabertos.camara.leg.br/api/v2/part...   \n",
       "\n",
       "  deputado_siglaUf  deputado_idLegislatura  \\\n",
       "0               SP                      56   \n",
       "\n",
       "                                    deputado_urlFoto  votos_key  horaVoto  \\\n",
       "0  https://www.camara.leg.br/internet/deputado/ba...          0  13:19:31   \n",
       "\n",
       "   dataVoto  \n",
       "0  20220804  "
      ]
     },
     "execution_count": 30,
     "metadata": {},
     "output_type": "execute_result"
    }
   ],
   "source": [
    "votacoesVotos_df[\"dataVoto\"] = getDate_from_DataHoraVoto(votacoesVotos_df,\"dataHoraVoto\").astype('datetime64[ns]')\n",
    "votacoesVotos_df[\"horaVoto\"] = getTime_from_DataHoraVoto(votacoesVotos_df,\"dataHoraVoto\")\n",
    "votos_dim = pd.DataFrame(votacoesVotos_df,\n",
    "                                 columns=[\"idVotacao\",\"dataVoto\",\"horaVoto\", \"voto\",\"deputado_id\",\n",
    "                                          \"deputado_nome\",\"deputado_siglaPartido\",\"deputado_siglaUf\"])\n",
    "votos_dim[\"votos_key\"] = votos_dim.index\n",
    "votos_dim = votacoesVotos_df.merge(dim_date, how=\"left\", left_on=\"dataVoto\", right_on=\"full_date\")\n",
    "votos_dim = votos_dim.drop([\"dataVoto\",\"full_date\"], axis=1)\n",
    "votos_dim[\"dataVoto\"] = votos_dim[\"date_key\"]\n",
    "votos_dim = votos_dim.drop([\"date_key\"], axis=1)\n",
    "votos_dim.head(1)"
   ]
  },
  {
   "cell_type": "code",
   "execution_count": 31,
   "id": "f1d4620f",
   "metadata": {},
   "outputs": [
    {
     "name": "stdout",
     "output_type": "stream",
     "text": [
      "197189\n"
     ]
    }
   ],
   "source": [
    "print(len(votos_dim.index))"
   ]
  },
  {
   "cell_type": "code",
   "execution_count": 32,
   "id": "1d4ad12c",
   "metadata": {},
   "outputs": [
    {
     "data": {
      "text/html": [
       "<div>\n",
       "<style scoped>\n",
       "    .dataframe tbody tr th:only-of-type {\n",
       "        vertical-align: middle;\n",
       "    }\n",
       "\n",
       "    .dataframe tbody tr th {\n",
       "        vertical-align: top;\n",
       "    }\n",
       "\n",
       "    .dataframe thead th {\n",
       "        text-align: right;\n",
       "    }\n",
       "</style>\n",
       "<table border=\"1\" class=\"dataframe\">\n",
       "  <thead>\n",
       "    <tr style=\"text-align: right;\">\n",
       "      <th></th>\n",
       "      <th>idVotacao</th>\n",
       "      <th>idOrgao</th>\n",
       "      <th>descricaoVotacao</th>\n",
       "      <th>aprovacao</th>\n",
       "      <th>votacoes_key</th>\n",
       "      <th>data</th>\n",
       "      <th>sigla</th>\n",
       "      <th>apelido</th>\n",
       "      <th>tipoOrgao</th>\n",
       "      <th>orgao_key</th>\n",
       "    </tr>\n",
       "  </thead>\n",
       "  <tbody>\n",
       "    <tr>\n",
       "      <th>0</th>\n",
       "      <td>2307143-25</td>\n",
       "      <td>2009</td>\n",
       "      <td>Aprovado o Relatório Prévio.</td>\n",
       "      <td>1.0</td>\n",
       "      <td>0</td>\n",
       "      <td>20221214</td>\n",
       "      <td>CE</td>\n",
       "      <td>Educação</td>\n",
       "      <td>Comissão Permanente</td>\n",
       "      <td>19</td>\n",
       "    </tr>\n",
       "  </tbody>\n",
       "</table>\n",
       "</div>"
      ],
      "text/plain": [
       "    idVotacao idOrgao              descricaoVotacao  aprovacao  votacoes_key  \\\n",
       "0  2307143-25    2009  Aprovado o Relatório Prévio.        1.0             0   \n",
       "\n",
       "       data sigla   apelido            tipoOrgao  orgao_key  \n",
       "0  20221214    CE  Educação  Comissão Permanente         19  "
      ]
     },
     "execution_count": 32,
     "metadata": {},
     "output_type": "execute_result"
    }
   ],
   "source": [
    "votacoes_orgaos = votacoes_dim.merge(orgaos_dim, how=\"left\", on=\"idOrgao\")\n",
    "votacoes_orgaos.head(1)"
   ]
  },
  {
   "cell_type": "code",
   "execution_count": 33,
   "id": "a5243532",
   "metadata": {},
   "outputs": [
    {
     "name": "stdout",
     "output_type": "stream",
     "text": [
      "5578\n"
     ]
    }
   ],
   "source": [
    "print(len(votacoes_orgaos.index))"
   ]
  },
  {
   "cell_type": "code",
   "execution_count": 34,
   "id": "71a5e60b",
   "metadata": {},
   "outputs": [
    {
     "data": {
      "text/html": [
       "<div>\n",
       "<style scoped>\n",
       "    .dataframe tbody tr th:only-of-type {\n",
       "        vertical-align: middle;\n",
       "    }\n",
       "\n",
       "    .dataframe tbody tr th {\n",
       "        vertical-align: top;\n",
       "    }\n",
       "\n",
       "    .dataframe thead th {\n",
       "        text-align: right;\n",
       "    }\n",
       "</style>\n",
       "<table border=\"1\" class=\"dataframe\">\n",
       "  <thead>\n",
       "    <tr style=\"text-align: right;\">\n",
       "      <th></th>\n",
       "      <th>idVotacao</th>\n",
       "      <th>uriVotacao</th>\n",
       "      <th>dataHoraVoto</th>\n",
       "      <th>voto</th>\n",
       "      <th>deputado_id</th>\n",
       "      <th>deputado_uri</th>\n",
       "      <th>deputado_nome</th>\n",
       "      <th>deputado_siglaPartido</th>\n",
       "      <th>deputado_uriPartido</th>\n",
       "      <th>deputado_siglaUf</th>\n",
       "      <th>deputado_idLegislatura</th>\n",
       "      <th>deputado_urlFoto</th>\n",
       "      <th>votos_key</th>\n",
       "      <th>horaVoto</th>\n",
       "      <th>dataVoto</th>\n",
       "      <th>deputado_nomePartido</th>\n",
       "      <th>partidos_key</th>\n",
       "    </tr>\n",
       "  </thead>\n",
       "  <tbody>\n",
       "    <tr>\n",
       "      <th>0</th>\n",
       "      <td>105464-319</td>\n",
       "      <td>https://dadosabertos.camara.leg.br/api/v2/vota...</td>\n",
       "      <td>2022-08-04T13:19:31</td>\n",
       "      <td>Não</td>\n",
       "      <td>204521</td>\n",
       "      <td>https://dadosabertos.camara.leg.br/api/v2/depu...</td>\n",
       "      <td>Abou Anni</td>\n",
       "      <td>UNIÃO</td>\n",
       "      <td>https://dadosabertos.camara.leg.br/api/v2/part...</td>\n",
       "      <td>SP</td>\n",
       "      <td>56</td>\n",
       "      <td>https://www.camara.leg.br/internet/deputado/ba...</td>\n",
       "      <td>0</td>\n",
       "      <td>13:19:31</td>\n",
       "      <td>20220804</td>\n",
       "      <td>União Brasil</td>\n",
       "      <td>22.0</td>\n",
       "    </tr>\n",
       "  </tbody>\n",
       "</table>\n",
       "</div>"
      ],
      "text/plain": [
       "    idVotacao                                         uriVotacao  \\\n",
       "0  105464-319  https://dadosabertos.camara.leg.br/api/v2/vota...   \n",
       "\n",
       "          dataHoraVoto voto  deputado_id  \\\n",
       "0  2022-08-04T13:19:31  Não       204521   \n",
       "\n",
       "                                        deputado_uri deputado_nome  \\\n",
       "0  https://dadosabertos.camara.leg.br/api/v2/depu...     Abou Anni   \n",
       "\n",
       "  deputado_siglaPartido                                deputado_uriPartido  \\\n",
       "0                 UNIÃO  https://dadosabertos.camara.leg.br/api/v2/part...   \n",
       "\n",
       "  deputado_siglaUf  deputado_idLegislatura  \\\n",
       "0               SP                      56   \n",
       "\n",
       "                                    deputado_urlFoto  votos_key  horaVoto  \\\n",
       "0  https://www.camara.leg.br/internet/deputado/ba...          0  13:19:31   \n",
       "\n",
       "   dataVoto deputado_nomePartido  partidos_key  \n",
       "0  20220804         União Brasil          22.0  "
      ]
     },
     "execution_count": 34,
     "metadata": {},
     "output_type": "execute_result"
    }
   ],
   "source": [
    "votos_partidos = votos_dim.merge(partidos_dim, how=\"left\", left_on=\"deputado_siglaPartido\",right_on=\"sigla\")\n",
    "votos_partidos=votos_partidos.drop(columns=[\"sigla\"])\n",
    "votos_partidos.head(1)"
   ]
  },
  {
   "cell_type": "code",
   "execution_count": 35,
   "id": "967c7809",
   "metadata": {},
   "outputs": [
    {
     "name": "stdout",
     "output_type": "stream",
     "text": [
      "197189\n"
     ]
    }
   ],
   "source": [
    "print(len(votos_partidos.index))"
   ]
  },
  {
   "cell_type": "code",
   "execution_count": 36,
   "id": "b23a7ae6",
   "metadata": {},
   "outputs": [
    {
     "data": {
      "text/html": [
       "<div>\n",
       "<style scoped>\n",
       "    .dataframe tbody tr th:only-of-type {\n",
       "        vertical-align: middle;\n",
       "    }\n",
       "\n",
       "    .dataframe tbody tr th {\n",
       "        vertical-align: top;\n",
       "    }\n",
       "\n",
       "    .dataframe thead th {\n",
       "        text-align: right;\n",
       "    }\n",
       "</style>\n",
       "<table border=\"1\" class=\"dataframe\">\n",
       "  <thead>\n",
       "    <tr style=\"text-align: right;\">\n",
       "      <th></th>\n",
       "      <th>idVotacao</th>\n",
       "      <th>uriVotacao</th>\n",
       "      <th>dataHoraVoto</th>\n",
       "      <th>voto</th>\n",
       "      <th>deputado_id</th>\n",
       "      <th>deputado_uri</th>\n",
       "      <th>deputado_nome</th>\n",
       "      <th>deputado_siglaPartido</th>\n",
       "      <th>deputado_uriPartido</th>\n",
       "      <th>deputado_siglaUf</th>\n",
       "      <th>...</th>\n",
       "      <th>idOrgao</th>\n",
       "      <th>descricaoVotacao</th>\n",
       "      <th>aprovacao</th>\n",
       "      <th>votacoes_key</th>\n",
       "      <th>data</th>\n",
       "      <th>sigla</th>\n",
       "      <th>apelido</th>\n",
       "      <th>tipoOrgao</th>\n",
       "      <th>orgao_key</th>\n",
       "      <th>facts_key</th>\n",
       "    </tr>\n",
       "  </thead>\n",
       "  <tbody>\n",
       "    <tr>\n",
       "      <th>0</th>\n",
       "      <td>105464-319</td>\n",
       "      <td>https://dadosabertos.camara.leg.br/api/v2/vota...</td>\n",
       "      <td>2022-08-04T13:19:31</td>\n",
       "      <td>Não</td>\n",
       "      <td>204521</td>\n",
       "      <td>https://dadosabertos.camara.leg.br/api/v2/depu...</td>\n",
       "      <td>Abou Anni</td>\n",
       "      <td>UNIÃO</td>\n",
       "      <td>https://dadosabertos.camara.leg.br/api/v2/part...</td>\n",
       "      <td>SP</td>\n",
       "      <td>...</td>\n",
       "      <td>180</td>\n",
       "      <td>Rejeitado o Destaque. Sim: 122; não: 246; abst...</td>\n",
       "      <td>0.0</td>\n",
       "      <td>2028</td>\n",
       "      <td>20220804</td>\n",
       "      <td>PLEN</td>\n",
       "      <td>Plenário</td>\n",
       "      <td>Plenário Virtual</td>\n",
       "      <td>1</td>\n",
       "      <td>0</td>\n",
       "    </tr>\n",
       "  </tbody>\n",
       "</table>\n",
       "<p>1 rows × 27 columns</p>\n",
       "</div>"
      ],
      "text/plain": [
       "    idVotacao                                         uriVotacao  \\\n",
       "0  105464-319  https://dadosabertos.camara.leg.br/api/v2/vota...   \n",
       "\n",
       "          dataHoraVoto voto  deputado_id  \\\n",
       "0  2022-08-04T13:19:31  Não       204521   \n",
       "\n",
       "                                        deputado_uri deputado_nome  \\\n",
       "0  https://dadosabertos.camara.leg.br/api/v2/depu...     Abou Anni   \n",
       "\n",
       "  deputado_siglaPartido                                deputado_uriPartido  \\\n",
       "0                 UNIÃO  https://dadosabertos.camara.leg.br/api/v2/part...   \n",
       "\n",
       "  deputado_siglaUf  ...  idOrgao  \\\n",
       "0               SP  ...      180   \n",
       "\n",
       "                                    descricaoVotacao  aprovacao votacoes_key  \\\n",
       "0  Rejeitado o Destaque. Sim: 122; não: 246; abst...        0.0         2028   \n",
       "\n",
       "       data sigla   apelido         tipoOrgao orgao_key  facts_key  \n",
       "0  20220804  PLEN  Plenário  Plenário Virtual         1          0  \n",
       "\n",
       "[1 rows x 27 columns]"
      ]
     },
     "execution_count": 36,
     "metadata": {},
     "output_type": "execute_result"
    }
   ],
   "source": [
    "facts_table = votos_partidos.merge(votacoes_orgaos, how=\"left\",on=\"idVotacao\")\n",
    "facts_table['facts_key'] = facts_table.index\n",
    "facts_table.head(1)"
   ]
  },
  {
   "cell_type": "code",
   "execution_count": 37,
   "id": "ffbca28e",
   "metadata": {},
   "outputs": [
    {
     "name": "stdout",
     "output_type": "stream",
     "text": [
      "197189\n"
     ]
    }
   ],
   "source": [
    "print(len(facts_table.index))"
   ]
  },
  {
   "cell_type": "markdown",
   "id": "dacd77c8",
   "metadata": {},
   "source": [
    "#### Step 3: Load data into (a different) MySQL (database)"
   ]
  },
  {
   "cell_type": "code",
   "execution_count": 38,
   "id": "65d47a26",
   "metadata": {},
   "outputs": [],
   "source": [
    "createDatabase(mysql_db_dst)"
   ]
  },
  {
   "cell_type": "code",
   "execution_count": 39,
   "id": "d5fa6cd2",
   "metadata": {},
   "outputs": [],
   "source": [
    "tables = [(\"votacoes_dim\",votacoes_dim,\"votacoes_key\"), (\"orgaos_dim\",orgaos_dim,\"orgao_key\"),\n",
    "          (\"votos_dim\",votos_dim,\"votos_key\"),(\"partidos_dim\",partidos_dim,\"partidos_key\"),\n",
    "          (\"facts_table\",facts_table,\"facts_key\")]\n",
    "for name,table,key in tables:\n",
    "    set_dataframe2(table,mysql_db_dst,name,\"insert\",key)"
   ]
  },
  {
   "cell_type": "markdown",
   "id": "a3671573",
   "metadata": {},
   "source": [
    "### Check My Work\n",
    "In this section I will:\n",
    "(1) SELECT data from 5 tables(4 dimensions and the fact table)\n",
    "(2) Perform an aggregation function to see the voting result for each vote that was taken"
   ]
  },
  {
   "cell_type": "code",
   "execution_count": 40,
   "id": "88c49fbd",
   "metadata": {},
   "outputs": [],
   "source": [
    "# Write Queries\n",
    "# SELECT Queries\n",
    "selectVotacoesDimQuery = \"SELECT * FROM votacoes_dim\"\n",
    "selectOrgaosDimQuery = \"SELECT * FROM orgaos_dim\"\n",
    "selectVotosDimQuery = \"SELECT * FROM votos_dim\"\n",
    "selectPartidosDimQuery = \"SELECT * FROM partidos_dim\"\n",
    "selectFactsTableDimQuery = \"SELECT * FROM facts_table\"\n",
    "\n",
    "# Aggregation function\n",
    "aggregationQuery = '''\n",
    "SELECT idVotacao, \n",
    "        descricaoVotacao, \n",
    "        `data`,\n",
    "        SUM(voto=\"Sim\") as \"sim\",\n",
    "        SUM(voto=\"Não\") as \"nao\", \n",
    "        SUM(voto=\"Abstencão\") as \"abstencao\" \n",
    "            FROM facts_table \n",
    "            GROUP BY idVotacao,\n",
    "                    descricaoVotacao,\n",
    "                    `data`\n",
    "            ORDER BY `data` DESC;\n",
    "'''\n",
    "#Translations for this query:\n",
    "#idVotacao = idVote\n",
    "#descricaoVotacao = voteDescription\n",
    "#Sim = Yes\n",
    "#Não = No\n",
    "#Abstencão = Abstentions"
   ]
  },
  {
   "cell_type": "code",
   "execution_count": 41,
   "id": "c72f0f05",
   "metadata": {},
   "outputs": [
    {
     "data": {
      "text/html": [
       "<div>\n",
       "<style scoped>\n",
       "    .dataframe tbody tr th:only-of-type {\n",
       "        vertical-align: middle;\n",
       "    }\n",
       "\n",
       "    .dataframe tbody tr th {\n",
       "        vertical-align: top;\n",
       "    }\n",
       "\n",
       "    .dataframe thead th {\n",
       "        text-align: right;\n",
       "    }\n",
       "</style>\n",
       "<table border=\"1\" class=\"dataframe\">\n",
       "  <thead>\n",
       "    <tr style=\"text-align: right;\">\n",
       "      <th></th>\n",
       "      <th>idVotacao</th>\n",
       "      <th>idOrgao</th>\n",
       "      <th>descricaoVotacao</th>\n",
       "      <th>aprovacao</th>\n",
       "      <th>votacoes_key</th>\n",
       "      <th>data</th>\n",
       "    </tr>\n",
       "  </thead>\n",
       "  <tbody>\n",
       "    <tr>\n",
       "      <th>0</th>\n",
       "      <td>2307143-25</td>\n",
       "      <td>2009</td>\n",
       "      <td>Aprovado o Relatório Prévio.</td>\n",
       "      <td>1.0</td>\n",
       "      <td>0</td>\n",
       "      <td>20221214</td>\n",
       "    </tr>\n",
       "  </tbody>\n",
       "</table>\n",
       "</div>"
      ],
      "text/plain": [
       "    idVotacao idOrgao              descricaoVotacao  aprovacao  votacoes_key  \\\n",
       "0  2307143-25    2009  Aprovado o Relatório Prévio.        1.0             0   \n",
       "\n",
       "       data  \n",
       "0  20221214  "
      ]
     },
     "execution_count": 41,
     "metadata": {},
     "output_type": "execute_result"
    }
   ],
   "source": [
    "get_dataframe(user_id,pwd,host_name,mysql_db_dst, selectVotacoesDimQuery).head(1)"
   ]
  },
  {
   "cell_type": "code",
   "execution_count": 42,
   "id": "8dacbe8d",
   "metadata": {},
   "outputs": [
    {
     "data": {
      "text/html": [
       "<div>\n",
       "<style scoped>\n",
       "    .dataframe tbody tr th:only-of-type {\n",
       "        vertical-align: middle;\n",
       "    }\n",
       "\n",
       "    .dataframe tbody tr th {\n",
       "        vertical-align: top;\n",
       "    }\n",
       "\n",
       "    .dataframe thead th {\n",
       "        text-align: right;\n",
       "    }\n",
       "</style>\n",
       "<table border=\"1\" class=\"dataframe\">\n",
       "  <thead>\n",
       "    <tr style=\"text-align: right;\">\n",
       "      <th></th>\n",
       "      <th>idOrgao</th>\n",
       "      <th>sigla</th>\n",
       "      <th>apelido</th>\n",
       "      <th>tipoOrgao</th>\n",
       "      <th>orgao_key</th>\n",
       "    </tr>\n",
       "  </thead>\n",
       "  <tbody>\n",
       "    <tr>\n",
       "      <th>0</th>\n",
       "      <td>4</td>\n",
       "      <td>MESA</td>\n",
       "      <td>Mesa Diretora</td>\n",
       "      <td>Comissão Diretora</td>\n",
       "      <td>0</td>\n",
       "    </tr>\n",
       "  </tbody>\n",
       "</table>\n",
       "</div>"
      ],
      "text/plain": [
       "  idOrgao sigla        apelido          tipoOrgao  orgao_key\n",
       "0       4  MESA  Mesa Diretora  Comissão Diretora          0"
      ]
     },
     "execution_count": 42,
     "metadata": {},
     "output_type": "execute_result"
    }
   ],
   "source": [
    "get_dataframe(user_id,pwd,host_name,mysql_db_dst, selectOrgaosDimQuery).head(1)"
   ]
  },
  {
   "cell_type": "code",
   "execution_count": 43,
   "id": "379d46f6",
   "metadata": {},
   "outputs": [
    {
     "data": {
      "text/html": [
       "<div>\n",
       "<style scoped>\n",
       "    .dataframe tbody tr th:only-of-type {\n",
       "        vertical-align: middle;\n",
       "    }\n",
       "\n",
       "    .dataframe tbody tr th {\n",
       "        vertical-align: top;\n",
       "    }\n",
       "\n",
       "    .dataframe thead th {\n",
       "        text-align: right;\n",
       "    }\n",
       "</style>\n",
       "<table border=\"1\" class=\"dataframe\">\n",
       "  <thead>\n",
       "    <tr style=\"text-align: right;\">\n",
       "      <th></th>\n",
       "      <th>idVotacao</th>\n",
       "      <th>uriVotacao</th>\n",
       "      <th>dataHoraVoto</th>\n",
       "      <th>voto</th>\n",
       "      <th>deputado_id</th>\n",
       "      <th>deputado_uri</th>\n",
       "      <th>deputado_nome</th>\n",
       "      <th>deputado_siglaPartido</th>\n",
       "      <th>deputado_uriPartido</th>\n",
       "      <th>deputado_siglaUf</th>\n",
       "      <th>deputado_idLegislatura</th>\n",
       "      <th>deputado_urlFoto</th>\n",
       "      <th>votos_key</th>\n",
       "      <th>horaVoto</th>\n",
       "      <th>dataVoto</th>\n",
       "    </tr>\n",
       "  </thead>\n",
       "  <tbody>\n",
       "    <tr>\n",
       "      <th>0</th>\n",
       "      <td>105464-319</td>\n",
       "      <td>https://dadosabertos.camara.leg.br/api/v2/vota...</td>\n",
       "      <td>2022-08-04T13:19:31</td>\n",
       "      <td>Não</td>\n",
       "      <td>204521</td>\n",
       "      <td>https://dadosabertos.camara.leg.br/api/v2/depu...</td>\n",
       "      <td>Abou Anni</td>\n",
       "      <td>UNIÃO</td>\n",
       "      <td>https://dadosabertos.camara.leg.br/api/v2/part...</td>\n",
       "      <td>SP</td>\n",
       "      <td>56</td>\n",
       "      <td>https://www.camara.leg.br/internet/deputado/ba...</td>\n",
       "      <td>0</td>\n",
       "      <td>13:19:31</td>\n",
       "      <td>20220804</td>\n",
       "    </tr>\n",
       "  </tbody>\n",
       "</table>\n",
       "</div>"
      ],
      "text/plain": [
       "    idVotacao                                         uriVotacao  \\\n",
       "0  105464-319  https://dadosabertos.camara.leg.br/api/v2/vota...   \n",
       "\n",
       "          dataHoraVoto voto  deputado_id  \\\n",
       "0  2022-08-04T13:19:31  Não       204521   \n",
       "\n",
       "                                        deputado_uri deputado_nome  \\\n",
       "0  https://dadosabertos.camara.leg.br/api/v2/depu...     Abou Anni   \n",
       "\n",
       "  deputado_siglaPartido                                deputado_uriPartido  \\\n",
       "0                 UNIÃO  https://dadosabertos.camara.leg.br/api/v2/part...   \n",
       "\n",
       "  deputado_siglaUf  deputado_idLegislatura  \\\n",
       "0               SP                      56   \n",
       "\n",
       "                                    deputado_urlFoto  votos_key  horaVoto  \\\n",
       "0  https://www.camara.leg.br/internet/deputado/ba...          0  13:19:31   \n",
       "\n",
       "   dataVoto  \n",
       "0  20220804  "
      ]
     },
     "execution_count": 43,
     "metadata": {},
     "output_type": "execute_result"
    }
   ],
   "source": [
    "get_dataframe(user_id,pwd,host_name,mysql_db_dst, selectVotosDimQuery).head(1)"
   ]
  },
  {
   "cell_type": "code",
   "execution_count": 44,
   "id": "a26d1c22",
   "metadata": {},
   "outputs": [
    {
     "data": {
      "text/html": [
       "<div>\n",
       "<style scoped>\n",
       "    .dataframe tbody tr th:only-of-type {\n",
       "        vertical-align: middle;\n",
       "    }\n",
       "\n",
       "    .dataframe tbody tr th {\n",
       "        vertical-align: top;\n",
       "    }\n",
       "\n",
       "    .dataframe thead th {\n",
       "        text-align: right;\n",
       "    }\n",
       "</style>\n",
       "<table border=\"1\" class=\"dataframe\">\n",
       "  <thead>\n",
       "    <tr style=\"text-align: right;\">\n",
       "      <th></th>\n",
       "      <th>deputado_nomePartido</th>\n",
       "      <th>sigla</th>\n",
       "      <th>partidos_key</th>\n",
       "    </tr>\n",
       "  </thead>\n",
       "  <tbody>\n",
       "    <tr>\n",
       "      <th>0</th>\n",
       "      <td>Avante</td>\n",
       "      <td>AVANTE</td>\n",
       "      <td>0</td>\n",
       "    </tr>\n",
       "  </tbody>\n",
       "</table>\n",
       "</div>"
      ],
      "text/plain": [
       "  deputado_nomePartido   sigla  partidos_key\n",
       "0               Avante  AVANTE             0"
      ]
     },
     "execution_count": 44,
     "metadata": {},
     "output_type": "execute_result"
    }
   ],
   "source": [
    "get_dataframe(user_id,pwd,host_name,mysql_db_dst, selectPartidosDimQuery).head(1)"
   ]
  },
  {
   "cell_type": "code",
   "execution_count": 45,
   "id": "e34fad7b",
   "metadata": {},
   "outputs": [
    {
     "data": {
      "text/html": [
       "<div>\n",
       "<style scoped>\n",
       "    .dataframe tbody tr th:only-of-type {\n",
       "        vertical-align: middle;\n",
       "    }\n",
       "\n",
       "    .dataframe tbody tr th {\n",
       "        vertical-align: top;\n",
       "    }\n",
       "\n",
       "    .dataframe thead th {\n",
       "        text-align: right;\n",
       "    }\n",
       "</style>\n",
       "<table border=\"1\" class=\"dataframe\">\n",
       "  <thead>\n",
       "    <tr style=\"text-align: right;\">\n",
       "      <th></th>\n",
       "      <th>idVotacao</th>\n",
       "      <th>uriVotacao</th>\n",
       "      <th>dataHoraVoto</th>\n",
       "      <th>voto</th>\n",
       "      <th>deputado_id</th>\n",
       "      <th>deputado_uri</th>\n",
       "      <th>deputado_nome</th>\n",
       "      <th>deputado_siglaPartido</th>\n",
       "      <th>deputado_uriPartido</th>\n",
       "      <th>deputado_siglaUf</th>\n",
       "      <th>...</th>\n",
       "      <th>idOrgao</th>\n",
       "      <th>descricaoVotacao</th>\n",
       "      <th>aprovacao</th>\n",
       "      <th>votacoes_key</th>\n",
       "      <th>data</th>\n",
       "      <th>sigla</th>\n",
       "      <th>apelido</th>\n",
       "      <th>tipoOrgao</th>\n",
       "      <th>orgao_key</th>\n",
       "      <th>facts_key</th>\n",
       "    </tr>\n",
       "  </thead>\n",
       "  <tbody>\n",
       "    <tr>\n",
       "      <th>0</th>\n",
       "      <td>105464-319</td>\n",
       "      <td>https://dadosabertos.camara.leg.br/api/v2/vota...</td>\n",
       "      <td>2022-08-04T13:19:31</td>\n",
       "      <td>Não</td>\n",
       "      <td>204521</td>\n",
       "      <td>https://dadosabertos.camara.leg.br/api/v2/depu...</td>\n",
       "      <td>Abou Anni</td>\n",
       "      <td>UNIÃO</td>\n",
       "      <td>https://dadosabertos.camara.leg.br/api/v2/part...</td>\n",
       "      <td>SP</td>\n",
       "      <td>...</td>\n",
       "      <td>180</td>\n",
       "      <td>Rejeitado o Destaque. Sim: 122; não: 246; abst...</td>\n",
       "      <td>0.0</td>\n",
       "      <td>2028</td>\n",
       "      <td>20220804</td>\n",
       "      <td>PLEN</td>\n",
       "      <td>Plenário</td>\n",
       "      <td>Plenário Virtual</td>\n",
       "      <td>1</td>\n",
       "      <td>0</td>\n",
       "    </tr>\n",
       "  </tbody>\n",
       "</table>\n",
       "<p>1 rows × 27 columns</p>\n",
       "</div>"
      ],
      "text/plain": [
       "    idVotacao                                         uriVotacao  \\\n",
       "0  105464-319  https://dadosabertos.camara.leg.br/api/v2/vota...   \n",
       "\n",
       "          dataHoraVoto voto  deputado_id  \\\n",
       "0  2022-08-04T13:19:31  Não       204521   \n",
       "\n",
       "                                        deputado_uri deputado_nome  \\\n",
       "0  https://dadosabertos.camara.leg.br/api/v2/depu...     Abou Anni   \n",
       "\n",
       "  deputado_siglaPartido                                deputado_uriPartido  \\\n",
       "0                 UNIÃO  https://dadosabertos.camara.leg.br/api/v2/part...   \n",
       "\n",
       "  deputado_siglaUf  ...  idOrgao  \\\n",
       "0               SP  ...      180   \n",
       "\n",
       "                                    descricaoVotacao  aprovacao votacoes_key  \\\n",
       "0  Rejeitado o Destaque. Sim: 122; não: 246; abst...        0.0         2028   \n",
       "\n",
       "       data sigla   apelido         tipoOrgao orgao_key  facts_key  \n",
       "0  20220804  PLEN  Plenário  Plenário Virtual         1          0  \n",
       "\n",
       "[1 rows x 27 columns]"
      ]
     },
     "execution_count": 45,
     "metadata": {},
     "output_type": "execute_result"
    }
   ],
   "source": [
    "get_dataframe(user_id,pwd,host_name,mysql_db_dst, selectFactsTableDimQuery).head(1)"
   ]
  },
  {
   "cell_type": "code",
   "execution_count": 46,
   "id": "68254f49",
   "metadata": {},
   "outputs": [
    {
     "data": {
      "text/html": [
       "<div>\n",
       "<style scoped>\n",
       "    .dataframe tbody tr th:only-of-type {\n",
       "        vertical-align: middle;\n",
       "    }\n",
       "\n",
       "    .dataframe tbody tr th {\n",
       "        vertical-align: top;\n",
       "    }\n",
       "\n",
       "    .dataframe thead th {\n",
       "        text-align: right;\n",
       "    }\n",
       "</style>\n",
       "<table border=\"1\" class=\"dataframe\">\n",
       "  <thead>\n",
       "    <tr style=\"text-align: right;\">\n",
       "      <th></th>\n",
       "      <th>idVotacao</th>\n",
       "      <th>descricaoVotacao</th>\n",
       "      <th>data</th>\n",
       "      <th>sim</th>\n",
       "      <th>nao</th>\n",
       "      <th>abstencao</th>\n",
       "    </tr>\n",
       "  </thead>\n",
       "  <tbody>\n",
       "    <tr>\n",
       "      <th>0</th>\n",
       "      <td>2194899-116</td>\n",
       "      <td>Rejeitado o Requerimento. Sim: 144; não: 326; ...</td>\n",
       "      <td>20221221</td>\n",
       "      <td>144.0</td>\n",
       "      <td>326.0</td>\n",
       "      <td>1.0</td>\n",
       "    </tr>\n",
       "  </tbody>\n",
       "</table>\n",
       "</div>"
      ],
      "text/plain": [
       "     idVotacao                                   descricaoVotacao      data  \\\n",
       "0  2194899-116  Rejeitado o Requerimento. Sim: 144; não: 326; ...  20221221   \n",
       "\n",
       "     sim    nao  abstencao  \n",
       "0  144.0  326.0        1.0  "
      ]
     },
     "execution_count": 46,
     "metadata": {},
     "output_type": "execute_result"
    }
   ],
   "source": [
    "# kept descricaoVoto since it says the score of the vote, so I can check my aggregation function is working correctly\n",
    "get_dataframe(user_id,pwd,host_name,mysql_db_dst, aggregationQuery).head(1)"
   ]
  }
 ],
 "metadata": {
  "kernelspec": {
   "display_name": "Python 3 (ipykernel)",
   "language": "python",
   "name": "python3"
  },
  "language_info": {
   "codemirror_mode": {
    "name": "ipython",
    "version": 3
   },
   "file_extension": ".py",
   "mimetype": "text/x-python",
   "name": "python",
   "nbconvert_exporter": "python",
   "pygments_lexer": "ipython3",
   "version": "3.10.10"
  }
 },
 "nbformat": 4,
 "nbformat_minor": 5
}
